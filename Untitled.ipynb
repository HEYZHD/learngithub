{
 "cells": [
  {
   "cell_type": "code",
   "execution_count": 1,
   "metadata": {},
   "outputs": [
    {
     "name": "stdout",
     "output_type": "stream",
     "text": [
      "b'Hello, TensorFlow!'\n"
     ]
    }
   ],
   "source": [
    "import tensorflow as tf\n",
    "hello = tf.constant('Hello, TensorFlow!')\n",
    "sess = tf.Session()\n",
    "print(sess.run(hello))"
   ]
  },
  {
   "cell_type": "code",
   "execution_count": 2,
   "metadata": {},
   "outputs": [
    {
     "name": "stdout",
     "output_type": "stream",
     "text": [
      "a=2, b=3\n",
      "Addition with constants: 5\n",
      "Multiplication with constants: 6\n"
     ]
    }
   ],
   "source": [
    "import tensorflow as tf\n",
    "a = tf.constant(2)\n",
    "b = tf.constant(3)\n",
    "with tf.Session() as sess:\n",
    "    print(\"a=2, b=3\")\n",
    "    print(\"Addition with constants: %i\" % sess.run(a+b))\n",
    "    print(\"Multiplication with constants: %i\" % sess.run(a*b))"
   ]
  },
  {
   "cell_type": "code",
   "execution_count": 3,
   "metadata": {},
   "outputs": [
    {
     "name": "stdout",
     "output_type": "stream",
     "text": [
      "Addition with variables: 5\n",
      "Multiplication with variables: 6\n"
     ]
    }
   ],
   "source": [
    "import tensorflow as tf\n",
    "a = tf.placeholder(tf.int16)\n",
    "b = tf.placeholder(tf.int16)\n",
    "add = tf.add(a, b)\n",
    "mul = tf.multiply(a, b)\n",
    "with tf.Session() as sess:\n",
    "    # Run every operation with variable input\n",
    "    print(\"Addition with variables: %i\" % sess.run(add, feed_dict={a: 2, b: 3}))\n",
    "    print(\"Multiplication with variables: %i\" % sess.run(mul, feed_dict={a: 2, b: 3}))\n"
   ]
  },
  {
   "cell_type": "code",
   "execution_count": 4,
   "metadata": {},
   "outputs": [
    {
     "name": "stdout",
     "output_type": "stream",
     "text": [
      "[[12.]]\n"
     ]
    }
   ],
   "source": [
    "matrix1 = tf.constant([[3., 3.]])\n",
    "matrix2 = tf.constant([[2.],[2.]])\n",
    "product=tf.matmul(matrix1,matrix2)\n",
    "with tf.Session() as sess:\n",
    "    result = sess.run(product)\n",
    "    print(result)"
   ]
  },
  {
   "cell_type": "code",
   "execution_count": 7,
   "metadata": {
    "scrolled": true
   },
   "outputs": [
    {
     "name": "stdout",
     "output_type": "stream",
     "text": [
      "Epoch: 0001 cost= 33.681266785 W= 1.5264517 b= 0.49340934\n",
      "Epoch: 0051 cost= 0.089551874 W= 0.31241652 b= 0.3495225\n",
      "Epoch: 0101 cost= 0.088096909 W= 0.3086802 b= 0.37640187\n",
      "Epoch: 0151 cost= 0.086810179 W= 0.30516592 b= 0.4016829\n",
      "Epoch: 0201 cost= 0.085672237 W= 0.30186075 b= 0.42546016\n",
      "Epoch: 0251 cost= 0.084665947 W= 0.29875222 b= 0.4478228\n",
      "Epoch: 0301 cost= 0.083776005 W= 0.29582843 b= 0.4688562\n",
      "Epoch: 0351 cost= 0.082989037 W= 0.29307857 b= 0.48863858\n",
      "Epoch: 0401 cost= 0.082293145 W= 0.29049233 b= 0.5072436\n",
      "Epoch: 0451 cost= 0.081677750 W= 0.2880598 b= 0.5247431\n",
      "Epoch: 0501 cost= 0.081133589 W= 0.285772 b= 0.5412014\n",
      "Epoch: 0551 cost= 0.080652423 W= 0.2836203 b= 0.55668104\n",
      "Epoch: 0601 cost= 0.080226950 W= 0.2815964 b= 0.57124096\n",
      "Epoch: 0651 cost= 0.079850756 W= 0.27969283 b= 0.5849342\n",
      "Epoch: 0701 cost= 0.079518147 W= 0.27790257 b= 0.59781355\n",
      "Epoch: 0751 cost= 0.079224057 W= 0.27621868 b= 0.60992724\n",
      "Epoch: 0801 cost= 0.078964107 W= 0.27463517 b= 0.6213186\n",
      "Epoch: 0851 cost= 0.078734286 W= 0.27314615 b= 0.63203126\n",
      "Epoch: 0901 cost= 0.078531124 W= 0.27174544 b= 0.6421074\n",
      "Epoch: 0951 cost= 0.078351513 W= 0.27042812 b= 0.6515843\n",
      "Epoch: 1001 cost= 0.078192748 W= 0.26918912 b= 0.66049755\n",
      "Epoch: 1051 cost= 0.078052394 W= 0.2680237 b= 0.6688812\n",
      "Epoch: 1101 cost= 0.077928357 W= 0.2669277 b= 0.67676616\n",
      "Epoch: 1151 cost= 0.077818684 W= 0.26589677 b= 0.6841824\n",
      "Epoch: 1201 cost= 0.077721767 W= 0.26492715 b= 0.6911579\n",
      "Epoch: 1251 cost= 0.077636115 W= 0.26401508 b= 0.6977189\n",
      "Epoch: 1301 cost= 0.077560417 W= 0.26315737 b= 0.70388955\n",
      "Epoch: 1351 cost= 0.077493526 W= 0.2623507 b= 0.7096932\n",
      "Epoch: 1401 cost= 0.077434443 W= 0.26159185 b= 0.7151516\n",
      "Epoch: 1451 cost= 0.077382237 W= 0.26087818 b= 0.72028583\n",
      "Epoch: 1501 cost= 0.077336118 W= 0.26020703 b= 0.7251144\n",
      "Epoch: 1551 cost= 0.077295370 W= 0.25957578 b= 0.72965556\n",
      "Epoch: 1601 cost= 0.077259384 W= 0.25898188 b= 0.7339276\n",
      "Epoch: 1651 cost= 0.077227585 W= 0.25842345 b= 0.7379452\n",
      "Epoch: 1701 cost= 0.077199511 W= 0.25789824 b= 0.7417238\n",
      "Epoch: 1751 cost= 0.077174723 W= 0.2574041 b= 0.74527794\n",
      "Epoch: 1801 cost= 0.077152841 W= 0.25693953 b= 0.74862003\n",
      "Epoch: 1851 cost= 0.077133507 W= 0.2565025 b= 0.75176436\n",
      "Epoch: 1901 cost= 0.077116452 W= 0.25609154 b= 0.7547207\n",
      "Epoch: 1951 cost= 0.077101409 W= 0.25570488 b= 0.7575022\n",
      "Optimization Finished!\n",
      "cost= 0.07708836 W= 0.25534835 b= 0.76006705\n"
     ]
    },
    {
     "data": {
      "image/png": "[encoded data removed]",
      "text/plain": [
       "<Figure size 432x288 with 1 Axes>"
      ]
     },
     "metadata": {},
     "output_type": "display_data"
    }
   ],
   "source": [
    "import tensorflow as tf\n",
    "import numpy\n",
    "import matplotlib.pyplot as plt\n",
    "rng = numpy.random\n",
    "\n",
    "# Parameters\n",
    "learning_rate = 0.01\n",
    "training_epochs = 2000\n",
    "display_step = 50\n",
    "\n",
    "# Training Data\n",
    "train_X = numpy.asarray([3.3,4.4,5.5,6.71,6.93,4.168,9.779,6.182,7.59,2.167,7.042,10.791,5.313,7.997,5.654,9.27,3.1])\n",
    "train_Y = numpy.asarray([1.7,2.76,2.09,3.19,1.694,1.573,3.366,2.596,2.53,1.221,2.827,3.465,1.65,2.904,2.42,2.94,1.3])\n",
    "n_samples = train_X.shape[0]\n",
    "\n",
    "# tf Graph Input\n",
    "X = tf.placeholder(\"float\")\n",
    "Y = tf.placeholder(\"float\")\n",
    "\n",
    "# Create Model\n",
    "\n",
    "# Set model weights\n",
    "W = tf.Variable(rng.randn(), name=\"weight\")\n",
    "b = tf.Variable(rng.randn(), name=\"bias\")\n",
    "\n",
    "# Construct a linear model\n",
    "activation = tf.add(tf.multiply(X, W), b)\n",
    "\n",
    "# Minimize the squared errors\n",
    "cost = tf.reduce_sum(tf.pow(activation-Y, 2))/(2*n_samples) #L2 loss\n",
    "optimizer = tf.train.GradientDescentOptimizer(learning_rate).minimize(cost) #Gradient descent\n",
    "\n",
    "# Initializing the variables\n",
    "init = tf.initialize_all_variables()\n",
    "\n",
    "# Launch the graph\n",
    "with tf.Session() as sess:\n",
    "    sess.run(init)\n",
    "\n",
    "    # Fit all training data\n",
    "    for epoch in range(training_epochs):\n",
    "        for (x, y) in zip(train_X, train_Y):\n",
    "            sess.run(optimizer, feed_dict={X: x, Y: y})\n",
    "\n",
    "        #Display logs per epoch step\n",
    "        if epoch % display_step == 0:\n",
    "            print (\"Epoch:\", '%04d' % (epoch+1), \"cost=\", \\\n",
    "                \"{:.9f}\".format(sess.run(cost, feed_dict={X: train_X, Y:train_Y})), \\\n",
    "                \"W=\", sess.run(W), \"b=\", sess.run(b))\n",
    "\n",
    "    print (\"Optimization Finished!\")\n",
    "    print (\"cost=\", sess.run(cost, feed_dict={X: train_X, Y: train_Y}), \\\n",
    "          \"W=\", sess.run(W), \"b=\", sess.run(b))\n",
    "\n",
    "    #Graphic display\n",
    "    plt.plot(train_X, train_Y, 'ro', label='Original data')\n",
    "    plt.plot(train_X, sess.run(W) * train_X + sess.run(b), label='Fitted line')\n",
    "    plt.legend()\n",
    "    plt.show()"
   ]
  },
  {
   "cell_type": "code",
   "execution_count": null,
   "metadata": {},
   "outputs": [],
   "source": []
  }
 ],
 "metadata": {
  "kernelspec": {
   "display_name": "Python 3",
   "language": "python",
   "name": "python3"
  },
  "language_info": {
   "codemirror_mode": {
    "name": "ipython",
    "version": 3
   },
   "file_extension": ".py",
   "mimetype": "text/x-python",
   "name": "python",
   "nbconvert_exporter": "python",
   "pygments_lexer": "ipython3",
   "version": "3.5.4rc1"
  }
 },
 "nbformat": 4,
 "nbformat_minor": 2
}
